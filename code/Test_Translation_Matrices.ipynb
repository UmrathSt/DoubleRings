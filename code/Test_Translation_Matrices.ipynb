{
 "cells": [
  {
   "cell_type": "code",
   "execution_count": 6,
   "metadata": {
    "collapsed": false,
    "deletable": true,
    "editable": true
   },
   "outputs": [],
   "source": [
    "import numpy as np\n",
    "from MultipoleTransformations import translation_matrix\n",
    "from MultipoleFields import HarmonicField as HF\n",
    "np.set_printoptions(precision=3)"
   ]
  },
  {
   "cell_type": "code",
   "execution_count": 30,
   "metadata": {
    "collapsed": true,
    "deletable": true,
    "editable": true
   },
   "outputs": [],
   "source": [
    "l1max = 3\n",
    "l2max = l1max\n",
    "m = 1\n",
    "sign_z = 1\n",
    "regreg = 1\n",
    "kd = 0.3\n",
    "T1 = translation_matrix(l1max, l2max, m, kd, sign_z, regreg)\n",
    "T2 = translation_matrix(l2max, l1max, m, 2*kd, sign_z, regreg)"
   ]
  },
  {
   "cell_type": "code",
   "execution_count": 31,
   "metadata": {
    "collapsed": false,
    "deletable": true,
    "editable": true
   },
   "outputs": [
    {
     "data": {
      "text/plain": [
       "array([[ True, False, False,  True,  True, False],\n",
       "       [False, False, False,  True, False, False],\n",
       "       [False, False, False, False, False, False],\n",
       "       [ True,  True, False,  True, False, False],\n",
       "       [ True, False, False, False, False, False],\n",
       "       [False, False, False, False, False, False]], dtype=bool)"
      ]
     },
     "execution_count": 31,
     "metadata": {},
     "output_type": "execute_result"
    }
   ],
   "source": [
    "np.isclose(np.dot(T1, T1), T2)"
   ]
  },
  {
   "cell_type": "code",
   "execution_count": 32,
   "metadata": {
    "collapsed": false,
    "deletable": true,
    "editable": true
   },
   "outputs": [
    {
     "data": {
      "text/plain": [
       "array([[  1.000e+00 +0.000e+00j,   1.075e-05 +0.000e+00j,\n",
       "          5.287e-05 +0.000e+00j,   0.000e+00 +5.012e-08j,\n",
       "          0.000e+00 -1.097e-07j,   0.000e+00 -1.593e-06j],\n",
       "       [  2.499e-05 +0.000e+00j,   1.000e+00 +0.000e+00j,\n",
       "          1.362e-03 +0.000e+00j,   0.000e+00 +2.041e-06j,\n",
       "          0.000e+00 +5.492e-06j,   0.000e+00 -8.954e-08j],\n",
       "       [  3.670e-04 +0.000e+00j,   4.068e-03 +0.000e+00j,\n",
       "          1.020e+00 +0.000e+00j,   0.000e+00 +3.368e-05j,\n",
       "          0.000e+00 +1.214e-04j,   0.000e+00 +1.988e-04j],\n",
       "       [  0.000e+00 +5.012e-08j,   0.000e+00 -1.097e-07j,\n",
       "          0.000e+00 -1.593e-06j,   1.000e+00 +0.000e+00j,\n",
       "          1.075e-05 +0.000e+00j,   5.287e-05 +0.000e+00j],\n",
       "       [  0.000e+00 +2.041e-06j,   0.000e+00 +5.492e-06j,\n",
       "          0.000e+00 -8.954e-08j,   2.499e-05 +0.000e+00j,\n",
       "          1.000e+00 +0.000e+00j,   1.362e-03 +0.000e+00j],\n",
       "       [  0.000e+00 +3.368e-05j,   0.000e+00 +1.214e-04j,\n",
       "          0.000e+00 +1.988e-04j,   3.670e-04 +0.000e+00j,\n",
       "          4.068e-03 +0.000e+00j,   1.020e+00 +0.000e+00j]])"
      ]
     },
     "execution_count": 32,
     "metadata": {},
     "output_type": "execute_result"
    }
   ],
   "source": [
    "np.dot(np.dot(T1, T1), np.linalg.inv(T2))"
   ]
  },
  {
   "cell_type": "code",
   "execution_count": 9,
   "metadata": {
    "collapsed": false,
    "deletable": true,
    "editable": true
   },
   "outputs": [],
   "source": [
    "field = HF(np.arange(16, dtype=np.complex128)[:,np.newaxis], 2)"
   ]
  },
  {
   "cell_type": "code",
   "execution_count": 11,
   "metadata": {
    "collapsed": false
   },
   "outputs": [
    {
     "data": {
      "text/plain": [
       "array([ 3, 11])"
      ]
     },
     "execution_count": 11,
     "metadata": {},
     "output_type": "execute_result"
    }
   ],
   "source": [
    "field.get_coef_at(-2)"
   ]
  },
  {
   "cell_type": "code",
   "execution_count": 12,
   "metadata": {
    "collapsed": true
   },
   "outputs": [],
   "source": [
    "from numpy.testing import assert_array_almost_equal"
   ]
  },
  {
   "cell_type": "code",
   "execution_count": 33,
   "metadata": {
    "collapsed": false
   },
   "outputs": [
    {
     "ename": "AssertionError",
     "evalue": "\nArrays are not almost equal to 6 decimals\n\n(mismatch 1.0%)\n x: array([[ 0.097468+4.699261j,  0.135367+0.39459j ,  0.327096+0.050843j,\n         0.821074+1.285499j,  0.953921+2.474666j,  0.996419+2.358046j,\n         0.002304+3.209785j,  0.583478+3.051965j,  0.818440+2.598294j,...\n y: array([[ 0.097468+4.699261j,  0.135367+0.39459j ,  0.327096+0.050843j,\n         0.821074+1.285499j,  0.953921+2.474666j,  0.996419+2.358046j,\n         0.002304+3.209785j,  0.583478+3.051965j,  0.818440+2.598294j,...",
     "output_type": "error",
     "traceback": [
      "\u001b[0;31m---------------------------------------------------------------------------\u001b[0m",
      "\u001b[0;31mAssertionError\u001b[0m                            Traceback (most recent call last)",
      "\u001b[0;32m<ipython-input-33-ed227047d33c>\u001b[0m in \u001b[0;36m<module>\u001b[0;34m()\u001b[0m\n\u001b[1;32m      2\u001b[0m \u001b[0mda\u001b[0m \u001b[0;34m=\u001b[0m \u001b[0mnp\u001b[0m\u001b[0;34m.\u001b[0m\u001b[0mzeros\u001b[0m\u001b[0;34m(\u001b[0m\u001b[0ma\u001b[0m\u001b[0;34m.\u001b[0m\u001b[0mshape\u001b[0m\u001b[0;34m,\u001b[0m\u001b[0mdtype\u001b[0m\u001b[0;34m=\u001b[0m\u001b[0mnp\u001b[0m\u001b[0;34m.\u001b[0m\u001b[0mcomplex128\u001b[0m\u001b[0;34m)\u001b[0m\u001b[0;34m\u001b[0m\u001b[0m\n\u001b[1;32m      3\u001b[0m \u001b[0mda\u001b[0m\u001b[0;34m[\u001b[0m\u001b[0;36m3\u001b[0m\u001b[0;34m,\u001b[0m\u001b[0;36m5\u001b[0m\u001b[0;34m]\u001b[0m \u001b[0;34m+=\u001b[0m \u001b[0;36m1e-4j\u001b[0m\u001b[0;34m\u001b[0m\u001b[0m\n\u001b[0;32m----> 4\u001b[0;31m \u001b[0massert_array_almost_equal\u001b[0m\u001b[0;34m(\u001b[0m\u001b[0ma\u001b[0m\u001b[0;34m,\u001b[0m \u001b[0ma\u001b[0m\u001b[0;34m+\u001b[0m\u001b[0mda\u001b[0m\u001b[0;34m)\u001b[0m\u001b[0;34m\u001b[0m\u001b[0m\n\u001b[0m",
      "\u001b[0;32m/home/stefan_dlr/.local/lib/python3.5/site-packages/numpy/testing/utils.py\u001b[0m in \u001b[0;36massert_array_almost_equal\u001b[0;34m(x, y, decimal, err_msg, verbose)\u001b[0m\n\u001b[1;32m    960\u001b[0m     assert_array_compare(compare, x, y, err_msg=err_msg, verbose=verbose,\n\u001b[1;32m    961\u001b[0m              \u001b[0mheader\u001b[0m\u001b[0;34m=\u001b[0m\u001b[0;34m(\u001b[0m\u001b[0;34m'Arrays are not almost equal to %d decimals'\u001b[0m \u001b[0;34m%\u001b[0m \u001b[0mdecimal\u001b[0m\u001b[0;34m)\u001b[0m\u001b[0;34m,\u001b[0m\u001b[0;34m\u001b[0m\u001b[0m\n\u001b[0;32m--> 962\u001b[0;31m              precision=decimal)\n\u001b[0m\u001b[1;32m    963\u001b[0m \u001b[0;34m\u001b[0m\u001b[0m\n\u001b[1;32m    964\u001b[0m \u001b[0;34m\u001b[0m\u001b[0m\n",
      "\u001b[0;32m/home/stefan_dlr/.local/lib/python3.5/site-packages/numpy/testing/utils.py\u001b[0m in \u001b[0;36massert_array_compare\u001b[0;34m(comparison, x, y, err_msg, verbose, header, precision, equal_nan, equal_inf)\u001b[0m\n\u001b[1;32m    776\u001b[0m                                 names=('x', 'y'), precision=precision)\n\u001b[1;32m    777\u001b[0m             \u001b[0;32mif\u001b[0m \u001b[0;32mnot\u001b[0m \u001b[0mcond\u001b[0m\u001b[0;34m:\u001b[0m\u001b[0;34m\u001b[0m\u001b[0m\n\u001b[0;32m--> 778\u001b[0;31m                 \u001b[0;32mraise\u001b[0m \u001b[0mAssertionError\u001b[0m\u001b[0;34m(\u001b[0m\u001b[0mmsg\u001b[0m\u001b[0;34m)\u001b[0m\u001b[0;34m\u001b[0m\u001b[0m\n\u001b[0m\u001b[1;32m    779\u001b[0m     \u001b[0;32mexcept\u001b[0m \u001b[0mValueError\u001b[0m\u001b[0;34m:\u001b[0m\u001b[0;34m\u001b[0m\u001b[0m\n\u001b[1;32m    780\u001b[0m         \u001b[0;32mimport\u001b[0m \u001b[0mtraceback\u001b[0m\u001b[0;34m\u001b[0m\u001b[0m\n",
      "\u001b[0;31mAssertionError\u001b[0m: \nArrays are not almost equal to 6 decimals\n\n(mismatch 1.0%)\n x: array([[ 0.097468+4.699261j,  0.135367+0.39459j ,  0.327096+0.050843j,\n         0.821074+1.285499j,  0.953921+2.474666j,  0.996419+2.358046j,\n         0.002304+3.209785j,  0.583478+3.051965j,  0.818440+2.598294j,...\n y: array([[ 0.097468+4.699261j,  0.135367+0.39459j ,  0.327096+0.050843j,\n         0.821074+1.285499j,  0.953921+2.474666j,  0.996419+2.358046j,\n         0.002304+3.209785j,  0.583478+3.051965j,  0.818440+2.598294j,..."
     ]
    }
   ],
   "source": [
    "a = np.random.rand(10,10)+ 5*np.random.rand(10,10)*1j\n",
    "da = np.zeros(a.shape,dtype=np.complex128)\n",
    "da[3,5] += 1e-4j\n",
    "assert_array_almost_equal(a, a+da)"
   ]
  },
  {
   "cell_type": "code",
   "execution_count": 26,
   "metadata": {
    "collapsed": false
   },
   "outputs": [],
   "source": []
  },
  {
   "cell_type": "code",
   "execution_count": null,
   "metadata": {
    "collapsed": true
   },
   "outputs": [],
   "source": []
  }
 ],
 "metadata": {
  "kernelspec": {
   "display_name": "Python 3",
   "language": "python",
   "name": "python3"
  },
  "language_info": {
   "codemirror_mode": {
    "name": "ipython",
    "version": 3
   },
   "file_extension": ".py",
   "mimetype": "text/x-python",
   "name": "python",
   "nbconvert_exporter": "python",
   "pygments_lexer": "ipython3",
   "version": "3.5.3"
  }
 },
 "nbformat": 4,
 "nbformat_minor": 2
}
